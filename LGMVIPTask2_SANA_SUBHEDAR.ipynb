{
  "nbformat": 4,
  "nbformat_minor": 0,
  "metadata": {
    "colab": {
      "name": "LGMVIPTask2_SANA SUBHEDAR.ipynb",
      "provenance": [],
      "authorship_tag": "ABX9TyPsGcVkS7eKm4nXadMrYKKh",
      "include_colab_link": true
    },
    "kernelspec": {
      "name": "python3",
      "display_name": "Python 3"
    },
    "language_info": {
      "name": "python"
    }
  },
  "cells": [
    {
      "cell_type": "markdown",
      "metadata": {
        "id": "view-in-github",
        "colab_type": "text"
      },
      "source": [
        "<a href=\"https://colab.research.google.com/github/gemini106/LGMVIP-DataScience/blob/main/LGMVIPTask2_SANA_SUBHEDAR.ipynb\" target=\"_parent\"><img src=\"https://colab.research.google.com/assets/colab-badge.svg\" alt=\"Open In Colab\"/></a>"
      ]
    },
    {
      "cell_type": "markdown",
      "metadata": {
        "id": "OS8YxLNzbkSS"
      },
      "source": [
        "# ***Music Recommendation***\n",
        "\n",
        "> Music recommender systems can suggest songs to users based on their listening patterns.\n",
        "\n"
      ]
    },
    {
      "cell_type": "markdown",
      "metadata": {
        "id": "gfC4QL32bZp0"
      },
      "source": [
        "### **LGMVIP ( SEPTEMBER 2021 )**\n",
        "(Data Analytics)\n",
        "\n",
        "**Author : SANA SUBHEDAR**"
      ]
    },
    {
      "cell_type": "markdown",
      "metadata": {
        "id": "kwTvmN2RaYHj"
      },
      "source": [
        "# 1)Importing Esssential Libraries"
      ]
    },
    {
      "cell_type": "code",
      "metadata": {
        "id": "lFKxpIDoToS6"
      },
      "source": [
        "import pandas as pd\n",
        "import numpy as np\n",
        "import Recommenders as Recommenders"
      ],
      "execution_count": null,
      "outputs": []
    },
    {
      "cell_type": "markdown",
      "metadata": {
        "id": "Ba2CEFisac7o"
      },
      "source": [
        "# 2)Reading data from given Data Sets"
      ]
    },
    {
      "cell_type": "code",
      "metadata": {
        "colab": {
          "base_uri": "https://localhost:8080/",
          "height": 202
        },
        "id": "tvuyUr5OT7QY",
        "outputId": "fada0e95-ec57-435a-ebbc-71998255b1dd"
      },
      "source": [
        "df = pd.read_csv('triplets_file.csv')\n",
        "df.head()"
      ],
      "execution_count": null,
      "outputs": [
        {
          "output_type": "execute_result",
          "data": {
            "text/html": [
              "<div>\n",
              "<style scoped>\n",
              "    .dataframe tbody tr th:only-of-type {\n",
              "        vertical-align: middle;\n",
              "    }\n",
              "\n",
              "    .dataframe tbody tr th {\n",
              "        vertical-align: top;\n",
              "    }\n",
              "\n",
              "    .dataframe thead th {\n",
              "        text-align: right;\n",
              "    }\n",
              "</style>\n",
              "<table border=\"1\" class=\"dataframe\">\n",
              "  <thead>\n",
              "    <tr style=\"text-align: right;\">\n",
              "      <th></th>\n",
              "      <th>user_id</th>\n",
              "      <th>song_id</th>\n",
              "      <th>listen_count</th>\n",
              "    </tr>\n",
              "  </thead>\n",
              "  <tbody>\n",
              "    <tr>\n",
              "      <th>0</th>\n",
              "      <td>b80344d063b5ccb3212f76538f3d9e43d87dca9e</td>\n",
              "      <td>SOAKIMP12A8C130995</td>\n",
              "      <td>1.0</td>\n",
              "    </tr>\n",
              "    <tr>\n",
              "      <th>1</th>\n",
              "      <td>b80344d063b5ccb3212f76538f3d9e43d87dca9e</td>\n",
              "      <td>SOBBMDR12A8C13253B</td>\n",
              "      <td>2.0</td>\n",
              "    </tr>\n",
              "    <tr>\n",
              "      <th>2</th>\n",
              "      <td>b80344d063b5ccb3212f76538f3d9e43d87dca9e</td>\n",
              "      <td>SOBXHDL12A81C204C0</td>\n",
              "      <td>1.0</td>\n",
              "    </tr>\n",
              "    <tr>\n",
              "      <th>3</th>\n",
              "      <td>b80344d063b5ccb3212f76538f3d9e43d87dca9e</td>\n",
              "      <td>SOBYHAJ12A6701BF1D</td>\n",
              "      <td>1.0</td>\n",
              "    </tr>\n",
              "    <tr>\n",
              "      <th>4</th>\n",
              "      <td>b80344d063b5ccb3212f76538f3d9e43d87dca9e</td>\n",
              "      <td>SODACBL12A8C13C273</td>\n",
              "      <td>1.0</td>\n",
              "    </tr>\n",
              "  </tbody>\n",
              "</table>\n",
              "</div>"
            ],
            "text/plain": [
              "                                    user_id             song_id  listen_count\n",
              "0  b80344d063b5ccb3212f76538f3d9e43d87dca9e  SOAKIMP12A8C130995           1.0\n",
              "1  b80344d063b5ccb3212f76538f3d9e43d87dca9e  SOBBMDR12A8C13253B           2.0\n",
              "2  b80344d063b5ccb3212f76538f3d9e43d87dca9e  SOBXHDL12A81C204C0           1.0\n",
              "3  b80344d063b5ccb3212f76538f3d9e43d87dca9e  SOBYHAJ12A6701BF1D           1.0\n",
              "4  b80344d063b5ccb3212f76538f3d9e43d87dca9e  SODACBL12A8C13C273           1.0"
            ]
          },
          "metadata": {},
          "execution_count": 22
        }
      ]
    },
    {
      "cell_type": "code",
      "metadata": {
        "colab": {
          "base_uri": "https://localhost:8080/",
          "height": 202
        },
        "id": "MX-3FZMZXuhY",
        "outputId": "5f9ee2be-f1d3-4541-db3b-72c54e699af7"
      },
      "source": [
        "df2 = pd.read_csv('song_data.csv')\n",
        "df2.head()"
      ],
      "execution_count": null,
      "outputs": [
        {
          "output_type": "execute_result",
          "data": {
            "text/html": [
              "<div>\n",
              "<style scoped>\n",
              "    .dataframe tbody tr th:only-of-type {\n",
              "        vertical-align: middle;\n",
              "    }\n",
              "\n",
              "    .dataframe tbody tr th {\n",
              "        vertical-align: top;\n",
              "    }\n",
              "\n",
              "    .dataframe thead th {\n",
              "        text-align: right;\n",
              "    }\n",
              "</style>\n",
              "<table border=\"1\" class=\"dataframe\">\n",
              "  <thead>\n",
              "    <tr style=\"text-align: right;\">\n",
              "      <th></th>\n",
              "      <th>song_id</th>\n",
              "      <th>title</th>\n",
              "      <th>release</th>\n",
              "      <th>artist_name</th>\n",
              "      <th>year</th>\n",
              "    </tr>\n",
              "  </thead>\n",
              "  <tbody>\n",
              "    <tr>\n",
              "      <th>0</th>\n",
              "      <td>SOQMMHC12AB0180CB8</td>\n",
              "      <td>Silent Night</td>\n",
              "      <td>Monster Ballads X-Mas</td>\n",
              "      <td>Faster Pussy cat</td>\n",
              "      <td>2003.0</td>\n",
              "    </tr>\n",
              "    <tr>\n",
              "      <th>1</th>\n",
              "      <td>SOVFVAK12A8C1350D9</td>\n",
              "      <td>Tanssi vaan</td>\n",
              "      <td>Karkuteillä</td>\n",
              "      <td>Karkkiautomaatti</td>\n",
              "      <td>1995.0</td>\n",
              "    </tr>\n",
              "    <tr>\n",
              "      <th>2</th>\n",
              "      <td>SOGTUKN12AB017F4F1</td>\n",
              "      <td>No One Could Ever</td>\n",
              "      <td>Butter</td>\n",
              "      <td>Hudson Mohawke</td>\n",
              "      <td>2006.0</td>\n",
              "    </tr>\n",
              "    <tr>\n",
              "      <th>3</th>\n",
              "      <td>SOBNYVR12A8C13558C</td>\n",
              "      <td>Si Vos Querés</td>\n",
              "      <td>De Culo</td>\n",
              "      <td>Yerba Brava</td>\n",
              "      <td>2003.0</td>\n",
              "    </tr>\n",
              "    <tr>\n",
              "      <th>4</th>\n",
              "      <td>SOHSBXH12A8C13B0DF</td>\n",
              "      <td>Tangle Of Aspens</td>\n",
              "      <td>Rene Ablaze Presents Winter Sessions</td>\n",
              "      <td>Der Mystic</td>\n",
              "      <td>0.0</td>\n",
              "    </tr>\n",
              "  </tbody>\n",
              "</table>\n",
              "</div>"
            ],
            "text/plain": [
              "              song_id              title  ...       artist_name    year\n",
              "0  SOQMMHC12AB0180CB8       Silent Night  ...  Faster Pussy cat  2003.0\n",
              "1  SOVFVAK12A8C1350D9        Tanssi vaan  ...  Karkkiautomaatti  1995.0\n",
              "2  SOGTUKN12AB017F4F1  No One Could Ever  ...    Hudson Mohawke  2006.0\n",
              "3  SOBNYVR12A8C13558C      Si Vos Querés  ...       Yerba Brava  2003.0\n",
              "4  SOHSBXH12A8C13B0DF   Tangle Of Aspens  ...        Der Mystic     0.0\n",
              "\n",
              "[5 rows x 5 columns]"
            ]
          },
          "metadata": {},
          "execution_count": 24
        }
      ]
    },
    {
      "cell_type": "markdown",
      "metadata": {
        "id": "0aPfARiqYM4E"
      },
      "source": [
        "# 3)Combining Both Datasets"
      ]
    },
    {
      "cell_type": "code",
      "metadata": {
        "colab": {
          "base_uri": "https://localhost:8080/",
          "height": 202
        },
        "id": "7V0DnU4CXuih",
        "outputId": "1f476b2f-05be-4c92-a663-89b83afc6ee7"
      },
      "source": [
        "song_df = pd.merge(df, df2.drop_duplicates(['song_id']), on='song_id', how='left')\n",
        "song_df.head()"
      ],
      "execution_count": null,
      "outputs": [
        {
          "output_type": "execute_result",
          "data": {
            "text/html": [
              "<div>\n",
              "<style scoped>\n",
              "    .dataframe tbody tr th:only-of-type {\n",
              "        vertical-align: middle;\n",
              "    }\n",
              "\n",
              "    .dataframe tbody tr th {\n",
              "        vertical-align: top;\n",
              "    }\n",
              "\n",
              "    .dataframe thead th {\n",
              "        text-align: right;\n",
              "    }\n",
              "</style>\n",
              "<table border=\"1\" class=\"dataframe\">\n",
              "  <thead>\n",
              "    <tr style=\"text-align: right;\">\n",
              "      <th></th>\n",
              "      <th>user_id</th>\n",
              "      <th>song_id</th>\n",
              "      <th>listen_count</th>\n",
              "      <th>title</th>\n",
              "      <th>release</th>\n",
              "      <th>artist_name</th>\n",
              "      <th>year</th>\n",
              "    </tr>\n",
              "  </thead>\n",
              "  <tbody>\n",
              "    <tr>\n",
              "      <th>0</th>\n",
              "      <td>b80344d063b5ccb3212f76538f3d9e43d87dca9e</td>\n",
              "      <td>SOAKIMP12A8C130995</td>\n",
              "      <td>1.0</td>\n",
              "      <td>The Cove</td>\n",
              "      <td>Thicker Than Water</td>\n",
              "      <td>Jack Johnson</td>\n",
              "      <td>0.0</td>\n",
              "    </tr>\n",
              "    <tr>\n",
              "      <th>1</th>\n",
              "      <td>b80344d063b5ccb3212f76538f3d9e43d87dca9e</td>\n",
              "      <td>SOBBMDR12A8C13253B</td>\n",
              "      <td>2.0</td>\n",
              "      <td>Entre Dos Aguas</td>\n",
              "      <td>Flamenco Para Niños</td>\n",
              "      <td>Paco De Lucia</td>\n",
              "      <td>1976.0</td>\n",
              "    </tr>\n",
              "    <tr>\n",
              "      <th>2</th>\n",
              "      <td>b80344d063b5ccb3212f76538f3d9e43d87dca9e</td>\n",
              "      <td>SOBXHDL12A81C204C0</td>\n",
              "      <td>1.0</td>\n",
              "      <td>Stronger</td>\n",
              "      <td>Graduation</td>\n",
              "      <td>Kanye West</td>\n",
              "      <td>2007.0</td>\n",
              "    </tr>\n",
              "    <tr>\n",
              "      <th>3</th>\n",
              "      <td>b80344d063b5ccb3212f76538f3d9e43d87dca9e</td>\n",
              "      <td>SOBYHAJ12A6701BF1D</td>\n",
              "      <td>1.0</td>\n",
              "      <td>NaN</td>\n",
              "      <td>NaN</td>\n",
              "      <td>NaN</td>\n",
              "      <td>NaN</td>\n",
              "    </tr>\n",
              "    <tr>\n",
              "      <th>4</th>\n",
              "      <td>b80344d063b5ccb3212f76538f3d9e43d87dca9e</td>\n",
              "      <td>SODACBL12A8C13C273</td>\n",
              "      <td>1.0</td>\n",
              "      <td>NaN</td>\n",
              "      <td>NaN</td>\n",
              "      <td>NaN</td>\n",
              "      <td>NaN</td>\n",
              "    </tr>\n",
              "  </tbody>\n",
              "</table>\n",
              "</div>"
            ],
            "text/plain": [
              "                                    user_id  ...    year\n",
              "0  b80344d063b5ccb3212f76538f3d9e43d87dca9e  ...     0.0\n",
              "1  b80344d063b5ccb3212f76538f3d9e43d87dca9e  ...  1976.0\n",
              "2  b80344d063b5ccb3212f76538f3d9e43d87dca9e  ...  2007.0\n",
              "3  b80344d063b5ccb3212f76538f3d9e43d87dca9e  ...     NaN\n",
              "4  b80344d063b5ccb3212f76538f3d9e43d87dca9e  ...     NaN\n",
              "\n",
              "[5 rows x 7 columns]"
            ]
          },
          "metadata": {},
          "execution_count": 25
        }
      ]
    },
    {
      "cell_type": "code",
      "metadata": {
        "colab": {
          "base_uri": "https://localhost:8080/"
        },
        "id": "ta38nlo7YF95",
        "outputId": "8c51a521-b6b7-48c3-b1e1-cdc3b2192717"
      },
      "source": [
        "len(song_df)"
      ],
      "execution_count": null,
      "outputs": [
        {
          "output_type": "execute_result",
          "data": {
            "text/plain": [
              "1047619"
            ]
          },
          "metadata": {},
          "execution_count": 26
        }
      ]
    },
    {
      "cell_type": "markdown",
      "metadata": {
        "id": "q1TdlvucYX3O"
      },
      "source": [
        "# 4)Creating new feature combining title and artist name"
      ]
    },
    {
      "cell_type": "code",
      "metadata": {
        "colab": {
          "base_uri": "https://localhost:8080/",
          "height": 219
        },
        "id": "nje0VFqDYTrj",
        "outputId": "3aa52a7f-3594-4439-96ac-21d55330f283"
      },
      "source": [
        "song_df['song'] = song_df['title']+' - '+song_df['artist_name']\n",
        "song_df.head()"
      ],
      "execution_count": null,
      "outputs": [
        {
          "output_type": "execute_result",
          "data": {
            "text/html": [
              "<div>\n",
              "<style scoped>\n",
              "    .dataframe tbody tr th:only-of-type {\n",
              "        vertical-align: middle;\n",
              "    }\n",
              "\n",
              "    .dataframe tbody tr th {\n",
              "        vertical-align: top;\n",
              "    }\n",
              "\n",
              "    .dataframe thead th {\n",
              "        text-align: right;\n",
              "    }\n",
              "</style>\n",
              "<table border=\"1\" class=\"dataframe\">\n",
              "  <thead>\n",
              "    <tr style=\"text-align: right;\">\n",
              "      <th></th>\n",
              "      <th>user_id</th>\n",
              "      <th>song_id</th>\n",
              "      <th>listen_count</th>\n",
              "      <th>title</th>\n",
              "      <th>release</th>\n",
              "      <th>artist_name</th>\n",
              "      <th>year</th>\n",
              "      <th>song</th>\n",
              "    </tr>\n",
              "  </thead>\n",
              "  <tbody>\n",
              "    <tr>\n",
              "      <th>0</th>\n",
              "      <td>b80344d063b5ccb3212f76538f3d9e43d87dca9e</td>\n",
              "      <td>SOAKIMP12A8C130995</td>\n",
              "      <td>1.0</td>\n",
              "      <td>The Cove</td>\n",
              "      <td>Thicker Than Water</td>\n",
              "      <td>Jack Johnson</td>\n",
              "      <td>0.0</td>\n",
              "      <td>The Cove - Jack Johnson</td>\n",
              "    </tr>\n",
              "    <tr>\n",
              "      <th>1</th>\n",
              "      <td>b80344d063b5ccb3212f76538f3d9e43d87dca9e</td>\n",
              "      <td>SOBBMDR12A8C13253B</td>\n",
              "      <td>2.0</td>\n",
              "      <td>Entre Dos Aguas</td>\n",
              "      <td>Flamenco Para Niños</td>\n",
              "      <td>Paco De Lucia</td>\n",
              "      <td>1976.0</td>\n",
              "      <td>Entre Dos Aguas - Paco De Lucia</td>\n",
              "    </tr>\n",
              "    <tr>\n",
              "      <th>2</th>\n",
              "      <td>b80344d063b5ccb3212f76538f3d9e43d87dca9e</td>\n",
              "      <td>SOBXHDL12A81C204C0</td>\n",
              "      <td>1.0</td>\n",
              "      <td>Stronger</td>\n",
              "      <td>Graduation</td>\n",
              "      <td>Kanye West</td>\n",
              "      <td>2007.0</td>\n",
              "      <td>Stronger - Kanye West</td>\n",
              "    </tr>\n",
              "    <tr>\n",
              "      <th>3</th>\n",
              "      <td>b80344d063b5ccb3212f76538f3d9e43d87dca9e</td>\n",
              "      <td>SOBYHAJ12A6701BF1D</td>\n",
              "      <td>1.0</td>\n",
              "      <td>NaN</td>\n",
              "      <td>NaN</td>\n",
              "      <td>NaN</td>\n",
              "      <td>NaN</td>\n",
              "      <td>NaN</td>\n",
              "    </tr>\n",
              "    <tr>\n",
              "      <th>4</th>\n",
              "      <td>b80344d063b5ccb3212f76538f3d9e43d87dca9e</td>\n",
              "      <td>SODACBL12A8C13C273</td>\n",
              "      <td>1.0</td>\n",
              "      <td>NaN</td>\n",
              "      <td>NaN</td>\n",
              "      <td>NaN</td>\n",
              "      <td>NaN</td>\n",
              "      <td>NaN</td>\n",
              "    </tr>\n",
              "  </tbody>\n",
              "</table>\n",
              "</div>"
            ],
            "text/plain": [
              "                                    user_id  ...                             song\n",
              "0  b80344d063b5ccb3212f76538f3d9e43d87dca9e  ...          The Cove - Jack Johnson\n",
              "1  b80344d063b5ccb3212f76538f3d9e43d87dca9e  ...  Entre Dos Aguas - Paco De Lucia\n",
              "2  b80344d063b5ccb3212f76538f3d9e43d87dca9e  ...            Stronger - Kanye West\n",
              "3  b80344d063b5ccb3212f76538f3d9e43d87dca9e  ...                              NaN\n",
              "4  b80344d063b5ccb3212f76538f3d9e43d87dca9e  ...                              NaN\n",
              "\n",
              "[5 rows x 8 columns]"
            ]
          },
          "metadata": {},
          "execution_count": 27
        }
      ]
    },
    {
      "cell_type": "code",
      "metadata": {
        "colab": {
          "base_uri": "https://localhost:8080/",
          "height": 202
        },
        "id": "L3zCjO4LYjJN",
        "outputId": "5eaaff6c-fcd7-4814-b368-f42a50e57762"
      },
      "source": [
        "song_grouped = song_df.groupby(['song']).agg({'listen_count':'count'}).reset_index()\n",
        "song_grouped.head()"
      ],
      "execution_count": null,
      "outputs": [
        {
          "output_type": "execute_result",
          "data": {
            "text/html": [
              "<div>\n",
              "<style scoped>\n",
              "    .dataframe tbody tr th:only-of-type {\n",
              "        vertical-align: middle;\n",
              "    }\n",
              "\n",
              "    .dataframe tbody tr th {\n",
              "        vertical-align: top;\n",
              "    }\n",
              "\n",
              "    .dataframe thead th {\n",
              "        text-align: right;\n",
              "    }\n",
              "</style>\n",
              "<table border=\"1\" class=\"dataframe\">\n",
              "  <thead>\n",
              "    <tr style=\"text-align: right;\">\n",
              "      <th></th>\n",
              "      <th>song</th>\n",
              "      <th>listen_count</th>\n",
              "    </tr>\n",
              "  </thead>\n",
              "  <tbody>\n",
              "    <tr>\n",
              "      <th>0</th>\n",
              "      <td>#40 - DAVE MATTHEWS BAND</td>\n",
              "      <td>172</td>\n",
              "    </tr>\n",
              "    <tr>\n",
              "      <th>1</th>\n",
              "      <td>' Cello Song - Nick Drake</td>\n",
              "      <td>55</td>\n",
              "    </tr>\n",
              "    <tr>\n",
              "      <th>2</th>\n",
              "      <td>'97 Bonnie &amp; Clyde - Eminem</td>\n",
              "      <td>44</td>\n",
              "    </tr>\n",
              "    <tr>\n",
              "      <th>3</th>\n",
              "      <td>(Anaesthesia) Pulling Teath - Metallica</td>\n",
              "      <td>45</td>\n",
              "    </tr>\n",
              "    <tr>\n",
              "      <th>4</th>\n",
              "      <td>(Antichrist Television Blues) - Arcade Fire</td>\n",
              "      <td>103</td>\n",
              "    </tr>\n",
              "  </tbody>\n",
              "</table>\n",
              "</div>"
            ],
            "text/plain": [
              "                                          song  listen_count\n",
              "0                     #40 - DAVE MATTHEWS BAND           172\n",
              "1                    ' Cello Song - Nick Drake            55\n",
              "2                  '97 Bonnie & Clyde - Eminem            44\n",
              "3      (Anaesthesia) Pulling Teath - Metallica            45\n",
              "4  (Antichrist Television Blues) - Arcade Fire           103"
            ]
          },
          "metadata": {},
          "execution_count": 28
        }
      ]
    },
    {
      "cell_type": "code",
      "metadata": {
        "colab": {
          "base_uri": "https://localhost:8080/",
          "height": 415
        },
        "id": "MNUYnUjFYkv1",
        "outputId": "dd963b2a-417c-4375-a20c-ec87339c90aa"
      },
      "source": [
        "\n",
        "grouped_sum = song_grouped['listen_count'].sum()\n",
        "song_grouped['percentage'] = (song_grouped['listen_count'] / grouped_sum ) * 100\n",
        "song_grouped.sort_values(['listen_count', 'song'], ascending=[0,1])"
      ],
      "execution_count": null,
      "outputs": [
        {
          "output_type": "execute_result",
          "data": {
            "text/html": [
              "<div>\n",
              "<style scoped>\n",
              "    .dataframe tbody tr th:only-of-type {\n",
              "        vertical-align: middle;\n",
              "    }\n",
              "\n",
              "    .dataframe tbody tr th {\n",
              "        vertical-align: top;\n",
              "    }\n",
              "\n",
              "    .dataframe thead th {\n",
              "        text-align: right;\n",
              "    }\n",
              "</style>\n",
              "<table border=\"1\" class=\"dataframe\">\n",
              "  <thead>\n",
              "    <tr style=\"text-align: right;\">\n",
              "      <th></th>\n",
              "      <th>song</th>\n",
              "      <th>listen_count</th>\n",
              "      <th>percentage</th>\n",
              "    </tr>\n",
              "  </thead>\n",
              "  <tbody>\n",
              "    <tr>\n",
              "      <th>5415</th>\n",
              "      <td>Undo - Björk</td>\n",
              "      <td>3685</td>\n",
              "      <td>0.588598</td>\n",
              "    </tr>\n",
              "    <tr>\n",
              "      <th>1238</th>\n",
              "      <td>Dog Days Are Over (Radio Edit) - Florence + Th...</td>\n",
              "      <td>3674</td>\n",
              "      <td>0.586841</td>\n",
              "    </tr>\n",
              "    <tr>\n",
              "      <th>5900</th>\n",
              "      <td>You're The One - Dwight Yoakam</td>\n",
              "      <td>3330</td>\n",
              "      <td>0.531895</td>\n",
              "    </tr>\n",
              "    <tr>\n",
              "      <th>5284</th>\n",
              "      <td>Tive Sim - Cartola</td>\n",
              "      <td>2398</td>\n",
              "      <td>0.383028</td>\n",
              "    </tr>\n",
              "    <tr>\n",
              "      <th>5448</th>\n",
              "      <td>Use Somebody - Kings Of Leon</td>\n",
              "      <td>2064</td>\n",
              "      <td>0.329679</td>\n",
              "    </tr>\n",
              "    <tr>\n",
              "      <th>...</th>\n",
              "      <td>...</td>\n",
              "      <td>...</td>\n",
              "      <td>...</td>\n",
              "    </tr>\n",
              "    <tr>\n",
              "      <th>5703</th>\n",
              "      <td>While You Were Sleeping - Elvis Perkins</td>\n",
              "      <td>25</td>\n",
              "      <td>0.003993</td>\n",
              "    </tr>\n",
              "    <tr>\n",
              "      <th>1360</th>\n",
              "      <td>Dónde jugarán los niños - Maná</td>\n",
              "      <td>24</td>\n",
              "      <td>0.003833</td>\n",
              "    </tr>\n",
              "    <tr>\n",
              "      <th>2471</th>\n",
              "      <td>In God's Country - U2</td>\n",
              "      <td>24</td>\n",
              "      <td>0.003833</td>\n",
              "    </tr>\n",
              "    <tr>\n",
              "      <th>3960</th>\n",
              "      <td>Radioactive Toy - Porcupine Tree</td>\n",
              "      <td>24</td>\n",
              "      <td>0.003833</td>\n",
              "    </tr>\n",
              "    <tr>\n",
              "      <th>1049</th>\n",
              "      <td>Crying Like A Church On Monday - New Radicals</td>\n",
              "      <td>22</td>\n",
              "      <td>0.003514</td>\n",
              "    </tr>\n",
              "  </tbody>\n",
              "</table>\n",
              "<p>5941 rows × 3 columns</p>\n",
              "</div>"
            ],
            "text/plain": [
              "                                                   song  ...  percentage\n",
              "5415                                       Undo - Björk  ...    0.588598\n",
              "1238  Dog Days Are Over (Radio Edit) - Florence + Th...  ...    0.586841\n",
              "5900                     You're The One - Dwight Yoakam  ...    0.531895\n",
              "5284                                 Tive Sim - Cartola  ...    0.383028\n",
              "5448                       Use Somebody - Kings Of Leon  ...    0.329679\n",
              "...                                                 ...  ...         ...\n",
              "5703            While You Were Sleeping - Elvis Perkins  ...    0.003993\n",
              "1360                     Dónde jugarán los niños - Maná  ...    0.003833\n",
              "2471                              In God's Country - U2  ...    0.003833\n",
              "3960                   Radioactive Toy - Porcupine Tree  ...    0.003833\n",
              "1049      Crying Like A Church On Monday - New Radicals  ...    0.003514\n",
              "\n",
              "[5941 rows x 3 columns]"
            ]
          },
          "metadata": {},
          "execution_count": 29
        }
      ]
    },
    {
      "cell_type": "markdown",
      "metadata": {
        "id": "7hC8NCttYriN"
      },
      "source": [
        "# 5)Applying Popularity Recommendation Engine\n"
      ]
    },
    {
      "cell_type": "code",
      "metadata": {
        "id": "OhhAWNHwYsRd"
      },
      "source": [
        "pr = Recommenders.popularity_recommender_py()"
      ],
      "execution_count": null,
      "outputs": []
    },
    {
      "cell_type": "code",
      "metadata": {
        "id": "LOv9F9MVY0Aa"
      },
      "source": [
        "pr.create(song_df, 'user_id', 'song')"
      ],
      "execution_count": null,
      "outputs": []
    },
    {
      "cell_type": "code",
      "metadata": {
        "colab": {
          "base_uri": "https://localhost:8080/",
          "height": 356
        },
        "id": "LO9RkR-qY2-3",
        "outputId": "5081c0ba-0dc5-4cab-8cc1-aa858a012314"
      },
      "source": [
        "pr.recommend(song_df['user_id'][5])"
      ],
      "execution_count": null,
      "outputs": [
        {
          "output_type": "execute_result",
          "data": {
            "text/html": [
              "<div>\n",
              "<style scoped>\n",
              "    .dataframe tbody tr th:only-of-type {\n",
              "        vertical-align: middle;\n",
              "    }\n",
              "\n",
              "    .dataframe tbody tr th {\n",
              "        vertical-align: top;\n",
              "    }\n",
              "\n",
              "    .dataframe thead th {\n",
              "        text-align: right;\n",
              "    }\n",
              "</style>\n",
              "<table border=\"1\" class=\"dataframe\">\n",
              "  <thead>\n",
              "    <tr style=\"text-align: right;\">\n",
              "      <th></th>\n",
              "      <th>user_id</th>\n",
              "      <th>song</th>\n",
              "      <th>score</th>\n",
              "      <th>Rank</th>\n",
              "    </tr>\n",
              "  </thead>\n",
              "  <tbody>\n",
              "    <tr>\n",
              "      <th>5415</th>\n",
              "      <td>b80344d063b5ccb3212f76538f3d9e43d87dca9e</td>\n",
              "      <td>Undo - Björk</td>\n",
              "      <td>3685</td>\n",
              "      <td>1.0</td>\n",
              "    </tr>\n",
              "    <tr>\n",
              "      <th>1238</th>\n",
              "      <td>b80344d063b5ccb3212f76538f3d9e43d87dca9e</td>\n",
              "      <td>Dog Days Are Over (Radio Edit) - Florence + Th...</td>\n",
              "      <td>3674</td>\n",
              "      <td>2.0</td>\n",
              "    </tr>\n",
              "    <tr>\n",
              "      <th>5900</th>\n",
              "      <td>b80344d063b5ccb3212f76538f3d9e43d87dca9e</td>\n",
              "      <td>You're The One - Dwight Yoakam</td>\n",
              "      <td>3330</td>\n",
              "      <td>3.0</td>\n",
              "    </tr>\n",
              "    <tr>\n",
              "      <th>5284</th>\n",
              "      <td>b80344d063b5ccb3212f76538f3d9e43d87dca9e</td>\n",
              "      <td>Tive Sim - Cartola</td>\n",
              "      <td>2398</td>\n",
              "      <td>4.0</td>\n",
              "    </tr>\n",
              "    <tr>\n",
              "      <th>5448</th>\n",
              "      <td>b80344d063b5ccb3212f76538f3d9e43d87dca9e</td>\n",
              "      <td>Use Somebody - Kings Of Leon</td>\n",
              "      <td>2064</td>\n",
              "      <td>5.0</td>\n",
              "    </tr>\n",
              "    <tr>\n",
              "      <th>834</th>\n",
              "      <td>b80344d063b5ccb3212f76538f3d9e43d87dca9e</td>\n",
              "      <td>Catch You Baby (Steve Pitron &amp; Max Sanna Radio...</td>\n",
              "      <td>1838</td>\n",
              "      <td>6.0</td>\n",
              "    </tr>\n",
              "    <tr>\n",
              "      <th>810</th>\n",
              "      <td>b80344d063b5ccb3212f76538f3d9e43d87dca9e</td>\n",
              "      <td>Canada - Five Iron Frenzy</td>\n",
              "      <td>1794</td>\n",
              "      <td>7.0</td>\n",
              "    </tr>\n",
              "    <tr>\n",
              "      <th>5103</th>\n",
              "      <td>b80344d063b5ccb3212f76538f3d9e43d87dca9e</td>\n",
              "      <td>The Scientist - Coldplay</td>\n",
              "      <td>1758</td>\n",
              "      <td>8.0</td>\n",
              "    </tr>\n",
              "    <tr>\n",
              "      <th>4411</th>\n",
              "      <td>b80344d063b5ccb3212f76538f3d9e43d87dca9e</td>\n",
              "      <td>Sincerité Et Jalousie - Alliance Ethnik</td>\n",
              "      <td>1633</td>\n",
              "      <td>9.0</td>\n",
              "    </tr>\n",
              "    <tr>\n",
              "      <th>158</th>\n",
              "      <td>b80344d063b5ccb3212f76538f3d9e43d87dca9e</td>\n",
              "      <td>Alejandro - Lady GaGa</td>\n",
              "      <td>1584</td>\n",
              "      <td>10.0</td>\n",
              "    </tr>\n",
              "  </tbody>\n",
              "</table>\n",
              "</div>"
            ],
            "text/plain": [
              "                                       user_id  ...  Rank\n",
              "5415  b80344d063b5ccb3212f76538f3d9e43d87dca9e  ...   1.0\n",
              "1238  b80344d063b5ccb3212f76538f3d9e43d87dca9e  ...   2.0\n",
              "5900  b80344d063b5ccb3212f76538f3d9e43d87dca9e  ...   3.0\n",
              "5284  b80344d063b5ccb3212f76538f3d9e43d87dca9e  ...   4.0\n",
              "5448  b80344d063b5ccb3212f76538f3d9e43d87dca9e  ...   5.0\n",
              "834   b80344d063b5ccb3212f76538f3d9e43d87dca9e  ...   6.0\n",
              "810   b80344d063b5ccb3212f76538f3d9e43d87dca9e  ...   7.0\n",
              "5103  b80344d063b5ccb3212f76538f3d9e43d87dca9e  ...   8.0\n",
              "4411  b80344d063b5ccb3212f76538f3d9e43d87dca9e  ...   9.0\n",
              "158   b80344d063b5ccb3212f76538f3d9e43d87dca9e  ...  10.0\n",
              "\n",
              "[10 rows x 4 columns]"
            ]
          },
          "metadata": {},
          "execution_count": 32
        }
      ]
    },
    {
      "cell_type": "code",
      "metadata": {
        "colab": {
          "base_uri": "https://localhost:8080/",
          "height": 356
        },
        "id": "BJr_LGFFY7fy",
        "outputId": "1f6a067d-1018-4bdb-8f5a-9fe0fcf0ea1f"
      },
      "source": [
        "pr.recommend(song_df['user_id'][100])"
      ],
      "execution_count": null,
      "outputs": [
        {
          "output_type": "execute_result",
          "data": {
            "text/html": [
              "<div>\n",
              "<style scoped>\n",
              "    .dataframe tbody tr th:only-of-type {\n",
              "        vertical-align: middle;\n",
              "    }\n",
              "\n",
              "    .dataframe tbody tr th {\n",
              "        vertical-align: top;\n",
              "    }\n",
              "\n",
              "    .dataframe thead th {\n",
              "        text-align: right;\n",
              "    }\n",
              "</style>\n",
              "<table border=\"1\" class=\"dataframe\">\n",
              "  <thead>\n",
              "    <tr style=\"text-align: right;\">\n",
              "      <th></th>\n",
              "      <th>user_id</th>\n",
              "      <th>song</th>\n",
              "      <th>score</th>\n",
              "      <th>Rank</th>\n",
              "    </tr>\n",
              "  </thead>\n",
              "  <tbody>\n",
              "    <tr>\n",
              "      <th>5415</th>\n",
              "      <td>e006b1a48f466bf59feefed32bec6494495a4436</td>\n",
              "      <td>Undo - Björk</td>\n",
              "      <td>3685</td>\n",
              "      <td>1.0</td>\n",
              "    </tr>\n",
              "    <tr>\n",
              "      <th>1238</th>\n",
              "      <td>e006b1a48f466bf59feefed32bec6494495a4436</td>\n",
              "      <td>Dog Days Are Over (Radio Edit) - Florence + Th...</td>\n",
              "      <td>3674</td>\n",
              "      <td>2.0</td>\n",
              "    </tr>\n",
              "    <tr>\n",
              "      <th>5900</th>\n",
              "      <td>e006b1a48f466bf59feefed32bec6494495a4436</td>\n",
              "      <td>You're The One - Dwight Yoakam</td>\n",
              "      <td>3330</td>\n",
              "      <td>3.0</td>\n",
              "    </tr>\n",
              "    <tr>\n",
              "      <th>5284</th>\n",
              "      <td>e006b1a48f466bf59feefed32bec6494495a4436</td>\n",
              "      <td>Tive Sim - Cartola</td>\n",
              "      <td>2398</td>\n",
              "      <td>4.0</td>\n",
              "    </tr>\n",
              "    <tr>\n",
              "      <th>5448</th>\n",
              "      <td>e006b1a48f466bf59feefed32bec6494495a4436</td>\n",
              "      <td>Use Somebody - Kings Of Leon</td>\n",
              "      <td>2064</td>\n",
              "      <td>5.0</td>\n",
              "    </tr>\n",
              "    <tr>\n",
              "      <th>834</th>\n",
              "      <td>e006b1a48f466bf59feefed32bec6494495a4436</td>\n",
              "      <td>Catch You Baby (Steve Pitron &amp; Max Sanna Radio...</td>\n",
              "      <td>1838</td>\n",
              "      <td>6.0</td>\n",
              "    </tr>\n",
              "    <tr>\n",
              "      <th>810</th>\n",
              "      <td>e006b1a48f466bf59feefed32bec6494495a4436</td>\n",
              "      <td>Canada - Five Iron Frenzy</td>\n",
              "      <td>1794</td>\n",
              "      <td>7.0</td>\n",
              "    </tr>\n",
              "    <tr>\n",
              "      <th>5103</th>\n",
              "      <td>e006b1a48f466bf59feefed32bec6494495a4436</td>\n",
              "      <td>The Scientist - Coldplay</td>\n",
              "      <td>1758</td>\n",
              "      <td>8.0</td>\n",
              "    </tr>\n",
              "    <tr>\n",
              "      <th>4411</th>\n",
              "      <td>e006b1a48f466bf59feefed32bec6494495a4436</td>\n",
              "      <td>Sincerité Et Jalousie - Alliance Ethnik</td>\n",
              "      <td>1633</td>\n",
              "      <td>9.0</td>\n",
              "    </tr>\n",
              "    <tr>\n",
              "      <th>158</th>\n",
              "      <td>e006b1a48f466bf59feefed32bec6494495a4436</td>\n",
              "      <td>Alejandro - Lady GaGa</td>\n",
              "      <td>1584</td>\n",
              "      <td>10.0</td>\n",
              "    </tr>\n",
              "  </tbody>\n",
              "</table>\n",
              "</div>"
            ],
            "text/plain": [
              "                                       user_id  ...  Rank\n",
              "5415  e006b1a48f466bf59feefed32bec6494495a4436  ...   1.0\n",
              "1238  e006b1a48f466bf59feefed32bec6494495a4436  ...   2.0\n",
              "5900  e006b1a48f466bf59feefed32bec6494495a4436  ...   3.0\n",
              "5284  e006b1a48f466bf59feefed32bec6494495a4436  ...   4.0\n",
              "5448  e006b1a48f466bf59feefed32bec6494495a4436  ...   5.0\n",
              "834   e006b1a48f466bf59feefed32bec6494495a4436  ...   6.0\n",
              "810   e006b1a48f466bf59feefed32bec6494495a4436  ...   7.0\n",
              "5103  e006b1a48f466bf59feefed32bec6494495a4436  ...   8.0\n",
              "4411  e006b1a48f466bf59feefed32bec6494495a4436  ...   9.0\n",
              "158   e006b1a48f466bf59feefed32bec6494495a4436  ...  10.0\n",
              "\n",
              "[10 rows x 4 columns]"
            ]
          },
          "metadata": {},
          "execution_count": 33
        }
      ]
    },
    {
      "cell_type": "code",
      "metadata": {
        "id": "4MrXIGH_ZJdC"
      },
      "source": [
        "ir = Recommenders.item_similarity_recommender_py()\n",
        "ir.create(song_df, 'user_id', 'song')"
      ],
      "execution_count": null,
      "outputs": []
    },
    {
      "cell_type": "code",
      "metadata": {
        "id": "5rs4i5DMZKkV"
      },
      "source": [
        "user_items = ir.get_user_items(song_df['user_id'][5])"
      ],
      "execution_count": null,
      "outputs": []
    },
    {
      "cell_type": "markdown",
      "metadata": {
        "id": "V6yX40IpZnYg"
      },
      "source": [
        "# 6)Retriving User songs history"
      ]
    },
    {
      "cell_type": "code",
      "metadata": {
        "colab": {
          "base_uri": "https://localhost:8080/"
        },
        "id": "sowY6OaaZNdx",
        "outputId": "fbc62bde-79ab-499a-e0c6-5fcf67ff0419"
      },
      "source": [
        "for user_item in user_items:\n",
        "    print(user_item)"
      ],
      "execution_count": null,
      "outputs": [
        {
          "output_type": "stream",
          "name": "stdout",
          "text": [
            "The Cove - Jack Johnson\n",
            "Entre Dos Aguas - Paco De Lucia\n",
            "Stronger - Kanye West\n",
            "nan\n",
            "Apuesta Por El Rock 'N' Roll - Héroes del Silencio\n",
            "Paper Gangsta - Lady GaGa\n",
            "Stacked Actors - Foo Fighters\n",
            "Heaven's gonna burn your eyes - Thievery Corporation feat. Emiliana Torrini\n",
            "Let It Be Sung - Jack Johnson / Matt Costa / Zach Gill / Dan Lebowitz / Steve Adams\n",
            "I'll Be Missing You (Featuring Faith Evans & 112)(Album Version) - Puff Daddy\n",
            "Love Shack - The B-52's\n",
            "The Old Saloon - The Lonely Island\n",
            "Behind The Sea [Live In Chicago] - Panic At The Disco\n",
            "Champion - Kanye West\n",
            "Country Road - Jack Johnson / Paula Fuga\n",
            "Oh No - Andrew Bird\n",
            "Love Song For No One - John Mayer\n",
            "Jewels And Gold - Angus & Julia Stone\n",
            "Neon - John Mayer\n",
            "The Middle - Jimmy Eat World\n",
            "High and dry - Jorge Drexler\n",
            "The Christmas Song  (LP Version) - King Curtis\n",
            "Are You In? - Incubus\n",
            "Drive - Incubus\n",
            "He Doesn't Know Why - Fleet Foxes\n",
            "Sun Giant - Fleet Foxes\n",
            "Right Back - Sublime\n",
            "Holes To Heaven - Jack Johnson\n"
          ]
        }
      ]
    },
    {
      "cell_type": "markdown",
      "metadata": {
        "id": "ldMppp-TZx38"
      },
      "source": [
        "# 7)Song Recommendation based on User History"
      ]
    },
    {
      "cell_type": "code",
      "metadata": {
        "colab": {
          "base_uri": "https://localhost:8080/",
          "height": 406
        },
        "id": "S2NURTtmZsVr",
        "outputId": "1880e0e2-600e-40c4-eb55-c95a86727943"
      },
      "source": [
        "ir.recommend(song_df['user_id'][5])"
      ],
      "execution_count": null,
      "outputs": [
        {
          "output_type": "stream",
          "name": "stdout",
          "text": [
            "No. of unique songs for the user: 28\n",
            "no. of unique songs in the training set: 5942\n",
            "Non zero values in cooccurence_matrix :71433\n"
          ]
        },
        {
          "output_type": "execute_result",
          "data": {
            "text/html": [
              "<div>\n",
              "<style scoped>\n",
              "    .dataframe tbody tr th:only-of-type {\n",
              "        vertical-align: middle;\n",
              "    }\n",
              "\n",
              "    .dataframe tbody tr th {\n",
              "        vertical-align: top;\n",
              "    }\n",
              "\n",
              "    .dataframe thead th {\n",
              "        text-align: right;\n",
              "    }\n",
              "</style>\n",
              "<table border=\"1\" class=\"dataframe\">\n",
              "  <thead>\n",
              "    <tr style=\"text-align: right;\">\n",
              "      <th></th>\n",
              "      <th>user_id</th>\n",
              "      <th>song</th>\n",
              "      <th>score</th>\n",
              "      <th>rank</th>\n",
              "    </tr>\n",
              "  </thead>\n",
              "  <tbody>\n",
              "    <tr>\n",
              "      <th>0</th>\n",
              "      <td>b80344d063b5ccb3212f76538f3d9e43d87dca9e</td>\n",
              "      <td>Tiger Mountain Peasant Song - Fleet Foxes</td>\n",
              "      <td>0.029292</td>\n",
              "      <td>1</td>\n",
              "    </tr>\n",
              "    <tr>\n",
              "      <th>1</th>\n",
              "      <td>b80344d063b5ccb3212f76538f3d9e43d87dca9e</td>\n",
              "      <td>Sun It Rises - Fleet Foxes</td>\n",
              "      <td>0.028168</td>\n",
              "      <td>2</td>\n",
              "    </tr>\n",
              "    <tr>\n",
              "      <th>2</th>\n",
              "      <td>b80344d063b5ccb3212f76538f3d9e43d87dca9e</td>\n",
              "      <td>Drops In The River - Fleet Foxes</td>\n",
              "      <td>0.025384</td>\n",
              "      <td>3</td>\n",
              "    </tr>\n",
              "    <tr>\n",
              "      <th>3</th>\n",
              "      <td>b80344d063b5ccb3212f76538f3d9e43d87dca9e</td>\n",
              "      <td>All At Once - Jack Johnson</td>\n",
              "      <td>0.023620</td>\n",
              "      <td>4</td>\n",
              "    </tr>\n",
              "    <tr>\n",
              "      <th>4</th>\n",
              "      <td>b80344d063b5ccb3212f76538f3d9e43d87dca9e</td>\n",
              "      <td>Hollywood - Angus &amp; Julia Stone</td>\n",
              "      <td>0.022096</td>\n",
              "      <td>5</td>\n",
              "    </tr>\n",
              "    <tr>\n",
              "      <th>5</th>\n",
              "      <td>b80344d063b5ccb3212f76538f3d9e43d87dca9e</td>\n",
              "      <td>The News - Jack Johnson</td>\n",
              "      <td>0.020969</td>\n",
              "      <td>6</td>\n",
              "    </tr>\n",
              "    <tr>\n",
              "      <th>6</th>\n",
              "      <td>b80344d063b5ccb3212f76538f3d9e43d87dca9e</td>\n",
              "      <td>Questions - Jack Johnson</td>\n",
              "      <td>0.020877</td>\n",
              "      <td>7</td>\n",
              "    </tr>\n",
              "    <tr>\n",
              "      <th>7</th>\n",
              "      <td>b80344d063b5ccb3212f76538f3d9e43d87dca9e</td>\n",
              "      <td>Talk Of The Town - Jack Johnson / Kawika Kahiapo</td>\n",
              "      <td>0.020826</td>\n",
              "      <td>8</td>\n",
              "    </tr>\n",
              "    <tr>\n",
              "      <th>8</th>\n",
              "      <td>b80344d063b5ccb3212f76538f3d9e43d87dca9e</td>\n",
              "      <td>Soldier - Angus &amp; Julia Stone</td>\n",
              "      <td>0.020573</td>\n",
              "      <td>9</td>\n",
              "    </tr>\n",
              "    <tr>\n",
              "      <th>9</th>\n",
              "      <td>b80344d063b5ccb3212f76538f3d9e43d87dca9e</td>\n",
              "      <td>Stranger - Angus &amp; Julia Stone</td>\n",
              "      <td>0.019757</td>\n",
              "      <td>10</td>\n",
              "    </tr>\n",
              "  </tbody>\n",
              "</table>\n",
              "</div>"
            ],
            "text/plain": [
              "                                    user_id  ... rank\n",
              "0  b80344d063b5ccb3212f76538f3d9e43d87dca9e  ...    1\n",
              "1  b80344d063b5ccb3212f76538f3d9e43d87dca9e  ...    2\n",
              "2  b80344d063b5ccb3212f76538f3d9e43d87dca9e  ...    3\n",
              "3  b80344d063b5ccb3212f76538f3d9e43d87dca9e  ...    4\n",
              "4  b80344d063b5ccb3212f76538f3d9e43d87dca9e  ...    5\n",
              "5  b80344d063b5ccb3212f76538f3d9e43d87dca9e  ...    6\n",
              "6  b80344d063b5ccb3212f76538f3d9e43d87dca9e  ...    7\n",
              "7  b80344d063b5ccb3212f76538f3d9e43d87dca9e  ...    8\n",
              "8  b80344d063b5ccb3212f76538f3d9e43d87dca9e  ...    9\n",
              "9  b80344d063b5ccb3212f76538f3d9e43d87dca9e  ...   10\n",
              "\n",
              "[10 rows x 4 columns]"
            ]
          },
          "metadata": {},
          "execution_count": 37
        }
      ]
    },
    {
      "cell_type": "markdown",
      "metadata": {
        "id": "9N2zt-XvaDnw"
      },
      "source": [
        "# 8)Song Recommendation Based on Words Entered"
      ]
    },
    {
      "cell_type": "code",
      "metadata": {
        "colab": {
          "base_uri": "https://localhost:8080/",
          "height": 390
        },
        "id": "3U22KzhcaBWb",
        "outputId": "d696dbe1-9f2f-4bbf-baa0-90672b5b43c0"
      },
      "source": [
        "ir.get_similar_items(['Oliver James - Fleet Foxes', 'The End - Pearl Jam'])"
      ],
      "execution_count": null,
      "outputs": [
        {
          "output_type": "stream",
          "name": "stdout",
          "text": [
            "no. of unique songs in the training set: 5942\n",
            "Non zero values in cooccurence_matrix :0\n"
          ]
        },
        {
          "output_type": "execute_result",
          "data": {
            "text/html": [
              "<div>\n",
              "<style scoped>\n",
              "    .dataframe tbody tr th:only-of-type {\n",
              "        vertical-align: middle;\n",
              "    }\n",
              "\n",
              "    .dataframe tbody tr th {\n",
              "        vertical-align: top;\n",
              "    }\n",
              "\n",
              "    .dataframe thead th {\n",
              "        text-align: right;\n",
              "    }\n",
              "</style>\n",
              "<table border=\"1\" class=\"dataframe\">\n",
              "  <thead>\n",
              "    <tr style=\"text-align: right;\">\n",
              "      <th></th>\n",
              "      <th>user_id</th>\n",
              "      <th>song</th>\n",
              "      <th>score</th>\n",
              "      <th>rank</th>\n",
              "    </tr>\n",
              "  </thead>\n",
              "  <tbody>\n",
              "    <tr>\n",
              "      <th>0</th>\n",
              "      <td></td>\n",
              "      <td>Baby [You've Got What It Takes] [with Sharon J...</td>\n",
              "      <td>0.0</td>\n",
              "      <td>1</td>\n",
              "    </tr>\n",
              "    <tr>\n",
              "      <th>1</th>\n",
              "      <td></td>\n",
              "      <td>Compañera - Silvio Rodríguez</td>\n",
              "      <td>0.0</td>\n",
              "      <td>2</td>\n",
              "    </tr>\n",
              "    <tr>\n",
              "      <th>2</th>\n",
              "      <td></td>\n",
              "      <td>Super Honeymoon - Owl City</td>\n",
              "      <td>0.0</td>\n",
              "      <td>3</td>\n",
              "    </tr>\n",
              "    <tr>\n",
              "      <th>3</th>\n",
              "      <td></td>\n",
              "      <td>Sister Seagull - Be Bop Deluxe</td>\n",
              "      <td>0.0</td>\n",
              "      <td>4</td>\n",
              "    </tr>\n",
              "    <tr>\n",
              "      <th>4</th>\n",
              "      <td></td>\n",
              "      <td>B.O.B. - OutKast</td>\n",
              "      <td>0.0</td>\n",
              "      <td>5</td>\n",
              "    </tr>\n",
              "    <tr>\n",
              "      <th>5</th>\n",
              "      <td></td>\n",
              "      <td>No More Tears - Ozzy Osbourne</td>\n",
              "      <td>0.0</td>\n",
              "      <td>6</td>\n",
              "    </tr>\n",
              "    <tr>\n",
              "      <th>6</th>\n",
              "      <td></td>\n",
              "      <td>Friction (LP Version) - Television</td>\n",
              "      <td>0.0</td>\n",
              "      <td>7</td>\n",
              "    </tr>\n",
              "    <tr>\n",
              "      <th>7</th>\n",
              "      <td></td>\n",
              "      <td>Me Da Igual - Camila</td>\n",
              "      <td>0.0</td>\n",
              "      <td>8</td>\n",
              "    </tr>\n",
              "    <tr>\n",
              "      <th>8</th>\n",
              "      <td></td>\n",
              "      <td>Crying Like A Church On Monday - New Radicals</td>\n",
              "      <td>0.0</td>\n",
              "      <td>9</td>\n",
              "    </tr>\n",
              "    <tr>\n",
              "      <th>9</th>\n",
              "      <td></td>\n",
              "      <td>Ballad Of Big Nothing - Elliott Smith</td>\n",
              "      <td>0.0</td>\n",
              "      <td>10</td>\n",
              "    </tr>\n",
              "  </tbody>\n",
              "</table>\n",
              "</div>"
            ],
            "text/plain": [
              "  user_id                                               song  score rank\n",
              "0          Baby [You've Got What It Takes] [with Sharon J...    0.0    1\n",
              "1                               Compañera - Silvio Rodríguez    0.0    2\n",
              "2                                 Super Honeymoon - Owl City    0.0    3\n",
              "3                             Sister Seagull - Be Bop Deluxe    0.0    4\n",
              "4                                           B.O.B. - OutKast    0.0    5\n",
              "5                              No More Tears - Ozzy Osbourne    0.0    6\n",
              "6                         Friction (LP Version) - Television    0.0    7\n",
              "7                                       Me Da Igual - Camila    0.0    8\n",
              "8              Crying Like A Church On Monday - New Radicals    0.0    9\n",
              "9                      Ballad Of Big Nothing - Elliott Smith    0.0   10"
            ]
          },
          "metadata": {},
          "execution_count": 40
        }
      ]
    }
  ]
}